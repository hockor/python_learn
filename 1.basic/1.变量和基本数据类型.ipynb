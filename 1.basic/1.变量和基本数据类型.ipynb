{
 "cells": [
  {
   "cell_type": "markdown",
   "metadata": {},
   "source": [
    "# Python 中的变量\n",
    "JavaScript中使用var、let或const声明变量，而Python不需要声明关键字。\n",
    "\n",
    "## 变量命名规则\n",
    "\n",
    "- 1. 变量名只能包含字母、数字和下划线\n",
    "- 2. 变量名不能以数字开头\n",
    "- 3. 变量名区分大小写\n",
    "\n"
   ]
  },
  {
   "cell_type": "code",
   "execution_count": 18,
   "metadata": {},
   "outputs": [
    {
     "name": "stdout",
     "output_type": "stream",
     "text": [
      "john 20 True 3.14159 100\n"
     ]
    }
   ],
   "source": [
    "name = \"john\"\n",
    "age = 20\n",
    "is_student = True\n",
    "\n",
    "# python 中没有 JS的 const 和 let 关键字\n",
    "# 常量使用大写命名\n",
    "PI = 3.14159\n",
    "MAX_LENGTH = 100\n",
    "\n",
    "# 变量命名规则\n",
    "\n",
    "print(name, age, is_student, PI, MAX_LENGTH)\n"
   ]
  },
  {
   "cell_type": "markdown",
   "metadata": {},
   "source": [
    "## 数据类型\n",
    "\n",
    "- Number（数字）\n",
    "- String（字符串）\n",
    "- bool（布尔类型）\n",
    "- List（列表）\n",
    "- Tuple（元组）\n",
    "- Set（集合）\n",
    "- Dictionary（字典）\n"
   ]
  },
  {
   "cell_type": "markdown",
   "metadata": {},
   "source": [
    "## Number\n",
    "- int \n",
    "- float\n",
    "- bool ： Python3 中，bool 是 int 的子类，True 和 False 可以和数字相加， True==1、False==0 会返回 True，但可以通过 is 来判断类型。\n",
    "- complex\n"
   ]
  },
  {
   "cell_type": "code",
   "execution_count": 13,
   "metadata": {},
   "outputs": [
    {
     "name": "stdout",
     "output_type": "stream",
     "text": [
      "age is int: True\n",
      "score is int: False\n",
      "age is float: False\n",
      "score is float: True\n",
      "True\n",
      "True\n",
      "(1+2j)\n"
     ]
    }
   ],
   "source": [
    "age = 20\n",
    "score = 95.5\n",
    "\n",
    "# 如何判断是一个整数\n",
    "print('age is int:', isinstance(age, int))\n",
    "print('score is int:', isinstance(score, int))\n",
    "\n",
    "# 如何判断是一个浮点数\n",
    "print('age is float:', isinstance(age, float))\n",
    "print('score is float:', isinstance(score, float))\n",
    "\n",
    "\n",
    "# bool的使用\n",
    "print(False == 0)\n",
    "print(True == 1)\n",
    "\n",
    "# 复数\n",
    "complex_num = 1 + 2j\n",
    "print(complex_num)\n",
    "\n",
    "\n"
   ]
  },
  {
   "cell_type": "markdown",
   "metadata": {},
   "source": [
    "## String\n"
   ]
  },
  {
   "cell_type": "code",
   "execution_count": 15,
   "metadata": {},
   "outputs": [
    {
     "name": "stdout",
     "output_type": "stream",
     "text": [
      "name: John, age: 20 PI: 3.14\n",
      "name: John, age: 20 PI: 3.14\n",
      "name: John, age: 20 PI: 3.14\n",
      "name: John, age: 20, PI: 3.14159\n"
     ]
    }
   ],
   "source": [
    "name = 'John'\n",
    "age = 20\n",
    "PI = 3.14159\n",
    "\n",
    "# PI 取两位小数 \n",
    "content = f\"name: {name}, age: {age} PI: {PI:.2f}\"\n",
    "print(content)\n",
    "\n",
    "content2 = 'name: %s, age: %d PI: %.2f' % (name, age, PI) \n",
    "print(content2)\n",
    "\n",
    "content3 = 'name: {}, age: {} PI: {:.2f}'.format(name, age, PI)\n",
    "print(content3)\n",
    "\n",
    "# 字符串拼接\n",
    "content4 = 'name: ' + name + ', age: ' + str(age) + ', PI: ' + str(PI)\n",
    "print(content4)\n",
    "\n",
    "\n"
   ]
  },
  {
   "cell_type": "markdown",
   "metadata": {},
   "source": [
    "## 列表和元组\n",
    "\n",
    "列表可以完成大多数集合类的数据结构实现。列表中元素的类型可以不相同，它支持数字，字符串甚至可以包含列表（所谓嵌套）。\n",
    "\n",
    "列表是写在方括号 [] 之间、用逗号分隔开的元素列表。\n",
    "\n",
    "和字符串一样，列表同样可以被索引和截取，列表被截取后返回一个包含所需元素的新列表。\n",
    "\n",
    "\n",
    "元组（tuple）与列表类似，不同之处在于元组的元素不能修改。元组写在小括号 () 里，元素之间用逗号隔开。"
   ]
  },
  {
   "cell_type": "code",
   "execution_count": 2,
   "metadata": {},
   "outputs": [
    {
     "name": "stdout",
     "output_type": "stream",
     "text": [
      "*********列表的索引*********\n",
      "1\n",
      "False\n",
      "*********列表的切片*********\n",
      "[1, 2, 3]\n",
      "[1, 2, 3]\n",
      "['name', 'age', True, False]\n",
      "[1, 2, 3, 'name', 'age', True, False]\n",
      "*********列表的拼接*********\n",
      "[1, 2, 3, 'name', 'age', True, False, 4, 5, 6, 'name2', 'age2', True, False]\n",
      "*********列表的重复*********\n",
      "[1, 2, 3, 'name', 'age', True, False, 1, 2, 3, 'name', 'age', True, False]\n",
      "*********列表的成员判断*********\n",
      "True\n",
      "True\n",
      "*********列表的遍历*********\n",
      "1\n",
      "2\n",
      "3\n",
      "name\n",
      "age\n",
      "True\n",
      "False\n",
      "[100, 2, 3, 'name', 'age', True, False]\n",
      "[2, 3, 'name', 'age', True, False]\n"
     ]
    }
   ],
   "source": [
    "list1 = [1,2,3,'name','age',True,False]\n",
    "\n",
    "# 列表的索引\n",
    "print(\"*********列表的索引*********\")\n",
    "print(list1[0])\n",
    "print(list1[-1])\n",
    "\n",
    "# 列表的切片\n",
    "print(\"*********列表的切片*********\")\n",
    "print(list1[0:3])\n",
    "print(list1[:3])\n",
    "print(list1[3:])\n",
    "print(list1[:])\n",
    "\n",
    "# 列表的拼接\n",
    "print(\"*********列表的拼接*********\")\n",
    "list2 = [4,5,6,'name2','age2',True,False]\n",
    "list3 = list1 + list2\n",
    "print(list3)\n",
    "\n",
    "# 列表的重复\n",
    "print(\"*********列表的重复*********\")\n",
    "list4 = list1 * 2\n",
    "print(list4)\n",
    "\n",
    "# 列表的成员判断\n",
    "print(\"*********列表的成员判断*********\")\n",
    "print(1 in list1)\n",
    "print('name' in list1)\n",
    "\n",
    "# 列表的遍历\n",
    "print(\"*********列表的遍历*********\")\n",
    "for item in list1:\n",
    "    print(item)\n",
    "\n",
    "# 修改列表\n",
    "list1[0] = 100\n",
    "print(list1)\n",
    "\n",
    "# 删除列表\n",
    "del list1[0]\n",
    "print(list1)\n"
   ]
  },
  {
   "cell_type": "code",
   "execution_count": 4,
   "metadata": {},
   "outputs": [
    {
     "name": "stdout",
     "output_type": "stream",
     "text": [
      "*********元组的索引*********\n",
      "1\n",
      "False\n",
      "*********元组的切片*********\n",
      "(1, 2, 3)\n",
      "*********元组的拼接*********\n",
      "(1, 2, 3, 'name', 'age', True, False, 4, 5, 6, 'name2', 'age2', True, False)\n",
      "*********元组转列表*********\n",
      "[1, 2, 3, 'name', 'age', True, False]\n"
     ]
    }
   ],
   "source": [
    "# 元组\n",
    "tuple1 = (1,2,3,'name','age',True,False)\n",
    "\n",
    "# 元组的索引\n",
    "print(\"*********元组的索引*********\")\n",
    "print(tuple1[0])\n",
    "print(tuple1[-1])\n",
    "\n",
    "# 元组的切片\n",
    "print(\"*********元组的切片*********\")\n",
    "print(tuple1[0:3])\n",
    "\n",
    "# 元组的拼接\n",
    "print(\"*********元组的拼接*********\")\n",
    "tuple2 = (4,5,6,'name2','age2',True,False)\n",
    "tuple3 = tuple1 + tuple2\n",
    "print(tuple3)\n",
    "\n",
    "# 修改元组\n",
    "# tuple[0] = 100\n",
    "\n",
    "# 删除元组\n",
    "# del tuple[0]\n",
    "\n",
    "# 元组转列表\n",
    "print(\"*********元组转列表*********\")\n",
    "print(list(tuple1))\n",
    "\n"
   ]
  }
 ],
 "metadata": {
  "kernelspec": {
   "display_name": ".venv",
   "language": "python",
   "name": "python3"
  },
  "language_info": {
   "codemirror_mode": {
    "name": "ipython",
    "version": 3
   },
   "file_extension": ".py",
   "mimetype": "text/x-python",
   "name": "python",
   "nbconvert_exporter": "python",
   "pygments_lexer": "ipython3",
   "version": "3.13.2"
  }
 },
 "nbformat": 4,
 "nbformat_minor": 2
}
